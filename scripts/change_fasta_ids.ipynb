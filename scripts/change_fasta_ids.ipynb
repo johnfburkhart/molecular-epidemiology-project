{
 "cells": [
  {
   "cell_type": "code",
   "execution_count": 1,
   "metadata": {},
   "outputs": [],
   "source": [
    "import pandas as pd\n",
    "\n",
    "df = pd.read_csv(\"downsampled_metadata_revised_locations.txt\", delimiter=\"\\t\", encoding = \"utf-8\")\n",
    "\n",
    "df = df[[\"id\", \"group_2\"]]\n",
    "keys = df[\"id\"].to_list()\n",
    "values = df[\"group_2\"].to_list()\n",
    "\n",
    "main_dict = dict(zip(keys,values))\n"
   ]
  },
  {
   "cell_type": "code",
   "execution_count": 2,
   "metadata": {},
   "outputs": [],
   "source": [
    "def change_fasta_id(input_file, output_file, dict):\n",
    "    with open(input_file, 'r') as f:\n",
    "        with open(output_file, 'w') as o:\n",
    "            for line in f:\n",
    "                if line.startswith('>'):\n",
    "                    header = line.strip()\n",
    "                    id = line.split(\"|\")[0][1:]\n",
    "                    region_id = dict[int(id)]\n",
    "                    new_header = header + \"|\" + region_id\n",
    "                    o.write(new_header + \"\\n\")\n",
    "                else:\n",
    "                    o.write(line) \n",
    "\n",
    "change_fasta_id(input_file=\"downsampled_sequences_trimmed_headers.aligned.fasta\", output_file=\"downsampled_1_locations_output.fasta\", dict = main_dict) \n"
   ]
  }
 ],
 "metadata": {
  "kernelspec": {
   "display_name": "Python 3",
   "language": "python",
   "name": "python3"
  },
  "language_info": {
   "codemirror_mode": {
    "name": "ipython",
    "version": 3
   },
   "file_extension": ".py",
   "mimetype": "text/x-python",
   "name": "python",
   "nbconvert_exporter": "python",
   "pygments_lexer": "ipython3",
   "version": "3.10.12"
  }
 },
 "nbformat": 4,
 "nbformat_minor": 2
}
