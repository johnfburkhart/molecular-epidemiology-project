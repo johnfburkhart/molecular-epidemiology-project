{
 "cells": [
  {
   "cell_type": "code",
   "execution_count": 2,
   "metadata": {},
   "outputs": [],
   "source": [
    "import numpy as np\n",
    "import pandas as pd\n",
    "import matplotlib.pyplot as plt"
   ]
  },
  {
   "cell_type": "code",
   "execution_count": 7,
   "metadata": {},
   "outputs": [
    {
     "name": "stdout",
     "output_type": "stream",
     "text": [
      "NA_eastern    214\n",
      "NA_midwest    102\n",
      "EU             72\n",
      "NA_west        68\n",
      "Name: group_2, dtype: int64\n",
      "mainland_europe    40\n",
      "manitoba           40\n",
      "nb_pei_ns          40\n",
      "new_england        40\n",
      "north_east_us      40\n",
      "ontario            40\n",
      "qc_nf              40\n",
      "west_mw_us         40\n",
      "west_us            35\n",
      "bc_ab              33\n",
      "uk                 32\n",
      "east_mw_us         22\n",
      "dc_adjacent        14\n",
      "Name: group, dtype: int64\n"
     ]
    }
   ],
   "source": [
    "df = pd.read_csv(\"downsampled_metadata_2_revised.txt\", delimiter=\"\\t\", encoding = \"utf-8\")\n",
    "print(df[\"group_2\"].value_counts())\n",
    "print(df[\"group\"].value_counts())"
   ]
  }
 ],
 "metadata": {
  "kernelspec": {
   "display_name": "Python 3",
   "language": "python",
   "name": "python3"
  },
  "language_info": {
   "codemirror_mode": {
    "name": "ipython",
    "version": 3
   },
   "file_extension": ".py",
   "mimetype": "text/x-python",
   "name": "python",
   "nbconvert_exporter": "python",
   "pygments_lexer": "ipython3",
   "version": "3.10.12"
  }
 },
 "nbformat": 4,
 "nbformat_minor": 2
}
